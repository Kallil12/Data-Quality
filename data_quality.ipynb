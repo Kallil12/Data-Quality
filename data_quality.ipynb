{
  "nbformat": 4,
  "nbformat_minor": 0,
  "metadata": {
    "colab": {
      "provenance": [],
      "authorship_tag": "ABX9TyOfz17JlK0nqw0NhYN9wVvK",
      "include_colab_link": true
    },
    "kernelspec": {
      "name": "python3",
      "display_name": "Python 3"
    },
    "language_info": {
      "name": "python"
    }
  },
  "cells": [
    {
      "cell_type": "markdown",
      "metadata": {
        "id": "view-in-github",
        "colab_type": "text"
      },
      "source": [
        "<a href=\"https://colab.research.google.com/github/Kallil12/Data-Quality/blob/main/data_quality.ipynb\" target=\"_parent\"><img src=\"https://colab.research.google.com/assets/colab-badge.svg\" alt=\"Open In Colab\"/></a>"
      ]
    },
    {
      "cell_type": "code",
      "execution_count": 1,
      "metadata": {
        "id": "L8yJqpBsH-MA"
      },
      "outputs": [],
      "source": [
        "import pandas as pd\n",
        "#import numpy as np\n",
        "#import matplotlib as plt"
      ]
    },
    {
      "cell_type": "markdown",
      "source": [
        "---\n",
        "# 1 - A - Read both csv files into Python.\n",
        "---\n"
      ],
      "metadata": {
        "id": "g1-ICv4-ORPB"
      }
    },
    {
      "cell_type": "code",
      "source": [
        "# 1A\n",
        "\n",
        "dealer_data_path = \"/content/sample_data/DEALER.csv\"\n",
        "retail_data_path = \"/content/sample_data/RETAIL_SALES.csv\""
      ],
      "metadata": {
        "id": "FzlYomqZMEJ-"
      },
      "execution_count": 2,
      "outputs": []
    },
    {
      "cell_type": "code",
      "source": [
        "df_dealer = pd.read_csv(dealer_data_path)\n",
        "df_retail = pd.read_csv(retail_data_path)"
      ],
      "metadata": {
        "colab": {
          "base_uri": "https://localhost:8080/"
        },
        "id": "LITrvC-pPjB5",
        "outputId": "918f5c3c-e979-4d7c-820b-7ee6e4e67ad8"
      },
      "execution_count": 3,
      "outputs": [
        {
          "output_type": "stream",
          "name": "stderr",
          "text": [
            "<ipython-input-3-8a4cc50ed4c7>:2: DtypeWarning: Columns (14) have mixed types. Specify dtype option on import or set low_memory=False.\n",
            "  df_retail = pd.read_csv(retail_data_path)\n"
          ]
        }
      ]
    },
    {
      "cell_type": "markdown",
      "source": [
        "---\n",
        "# 1 - B - Display the data types for each column for both datasets.\n",
        "---"
      ],
      "metadata": {
        "id": "vhKkbrRLGvN-"
      }
    },
    {
      "cell_type": "code",
      "source": [
        "# 1B\n",
        "\n",
        "dealer_data_types = df_dealer.dtypes\n",
        "retail_data_types = df_retail.dtypes"
      ],
      "metadata": {
        "id": "lY8_VIbZPLmQ"
      },
      "execution_count": 4,
      "outputs": []
    },
    {
      "cell_type": "code",
      "source": [
        "print(\"1 B:\\n\")\n",
        "print(\"Data types for the dealer dataset:\\n\")\n",
        "print(dealer_data_types)\n",
        "\n",
        "print(\"\\n----//----//----//----//----//----//----//----\")\n",
        "print(\"\\nData types for the retail dataset:\\n\")\n",
        "print(retail_data_types)"
      ],
      "metadata": {
        "colab": {
          "base_uri": "https://localhost:8080/"
        },
        "id": "uyy4T3BAOuK5",
        "outputId": "f5cd4cf7-fa75-4931-eafa-bb6bbfe51de9"
      },
      "execution_count": 5,
      "outputs": [
        {
          "output_type": "stream",
          "name": "stdout",
          "text": [
            "1 B:\n",
            "\n",
            "Data types for the dealer dataset:\n",
            "\n",
            "CUSTOMER_NUMBER               int64\n",
            "ATV                          object\n",
            "ATV_CREATION_DATE            object\n",
            "CERTIFICATION_LEVEL_CODE    float64\n",
            "CITY_DEALER                  object\n",
            "COUNTRY_CODE                 object\n",
            "DEALER_TYPE_CODE              int64\n",
            "DEALER_TYPE_DESC             object\n",
            "GROUP_NUMBER                  int64\n",
            "PWC                          object\n",
            "PWC_CREATION_DATE            object\n",
            "SALES_GROUP                  object\n",
            "SALES_OFFICE                  int64\n",
            "SALES_ORG                     int64\n",
            "SNOW                         object\n",
            "SNOW_CREATION_DATE           object\n",
            "SSV                          object\n",
            "SSV_CREATION_DATE            object\n",
            "STATE_CODE                   object\n",
            "TERRITORY_CODE                int64\n",
            "THREE_W                      object\n",
            "THREE_W_CREATION_DATE        object\n",
            "GEOGRAPHY                   float64\n",
            "dtype: object\n",
            "\n",
            "----//----//----//----//----//----//----//----\n",
            "\n",
            "Data types for the retail dataset:\n",
            "\n",
            "BCI_PROGRAM_CODE        object\n",
            "DATE_OF_SALE            object\n",
            "DEALER_OEM_TYPE         object\n",
            "DELIVERY_DATE           object\n",
            "ENGINE_TYPE             object\n",
            "FLOORING_END_DATE       object\n",
            "INVOICE_DATE            object\n",
            "LAST_STORAGE_DATE       object\n",
            "MODEL_NUMBER            object\n",
            "PAID_OFF_DATE           object\n",
            "PLATFORM                object\n",
            "PROMO_CODE              object\n",
            "REG_DEALER_NUMBER       object\n",
            "REGISTRATION_DATE       object\n",
            "SELL_DIST_CHAN_CODE     object\n",
            "SELL_DIST_CHAN_DESC     object\n",
            "TRAN_DATE               object\n",
            "TRAN_DEALER_NUMBER     float64\n",
            "USAGE_DESC              object\n",
            "WAR_CLASS_TYPE          object\n",
            "WAR_CLASS_DESC          object\n",
            "dtype: object\n"
          ]
        }
      ]
    },
    {
      "cell_type": "markdown",
      "source": [
        "---\n",
        "# 1 - C - What is the number of rows and columns for each dataset?\n",
        "---"
      ],
      "metadata": {
        "id": "W8dHdWbAG2UL"
      }
    },
    {
      "cell_type": "code",
      "source": [
        "# 1C\n",
        "\n",
        "dealer_data_rows = df_dealer.shape\n",
        "retail_data_rows = df_retail.shape"
      ],
      "metadata": {
        "id": "TXQ61DFVWDRE"
      },
      "execution_count": 6,
      "outputs": []
    },
    {
      "cell_type": "code",
      "source": [
        "print(\"1 C:\\n\")\n",
        "print(\"Number of rows and columns in the dealer dataset\")\n",
        "print(\"# of rows: {}\".format(dealer_data_rows[0]))\n",
        "print(\"# of columns: {}\\n\".format(dealer_data_rows[1]))\n",
        "\n",
        "print(\"----//----//----//----//----//----//----//----\")\n",
        "print(\"\\nNumber of rows and columns in the retail dataset\")\n",
        "print(\"# of rows: {}\".format(retail_data_rows[0]))\n",
        "print(\"# of columns: {}\".format(retail_data_rows[1]))"
      ],
      "metadata": {
        "colab": {
          "base_uri": "https://localhost:8080/"
        },
        "id": "Hi_YPdqzSkAO",
        "outputId": "2363d738-4f67-4686-fee8-08f4a2feec99"
      },
      "execution_count": 7,
      "outputs": [
        {
          "output_type": "stream",
          "name": "stdout",
          "text": [
            "1 C:\n",
            "\n",
            "Number of rows and columns in the dealer dataset\n",
            "# of rows: 4153\n",
            "# of columns: 23\n",
            "\n",
            "----//----//----//----//----//----//----//----\n",
            "\n",
            "Number of rows and columns in the retail dataset\n",
            "# of rows: 134261\n",
            "# of columns: 21\n"
          ]
        }
      ]
    },
    {
      "cell_type": "markdown",
      "source": [
        "---\n",
        "# 1 - D - Display the first 6 rows for the DEALER dataset and the last 8 for the RETAIL_SALES one.\n",
        "---"
      ],
      "metadata": {
        "id": "5IvIHaU6G_k3"
      }
    },
    {
      "cell_type": "code",
      "source": [
        "# 1D\n",
        "\n",
        "dealer_top_six = df_dealer.head(6)\n",
        "retail_bot_eight = df_retail.tail(8)"
      ],
      "metadata": {
        "id": "T9CkbWBnWJBR"
      },
      "execution_count": 8,
      "outputs": []
    },
    {
      "cell_type": "code",
      "source": [
        "print(\"The first 6 rows in the dealer dataset are:\")\n",
        "print(dealer_top_six)\n",
        "\n",
        "print(\"\\n----//----//----//----//----//----//----//----\")\n",
        "print(\"\\nThe last 8 rows in the retail data set are:\")\n",
        "print(retail_bot_eight)"
      ],
      "metadata": {
        "colab": {
          "base_uri": "https://localhost:8080/"
        },
        "id": "ZIhUTe8hWj0M",
        "outputId": "cf983f15-8b84-422d-c5ec-ba0296b459e5"
      },
      "execution_count": 9,
      "outputs": [
        {
          "output_type": "stream",
          "name": "stdout",
          "text": [
            "The first 6 rows in the dealer dataset are:\n",
            "   CUSTOMER_NUMBER ATV ATV_CREATION_DATE  CERTIFICATION_LEVEL_CODE  \\\n",
            "0           690015   N               NaN                       NaN   \n",
            "1           690086   N               NaN                       NaN   \n",
            "2           690107   N               NaN                       NaN   \n",
            "3           690147   Y         3/11/2000                       NaN   \n",
            "4           690158   Y         7/14/2008                      20.0   \n",
            "5           690158   Y         7/14/2008                       NaN   \n",
            "\n",
            "  CITY_DEALER COUNTRY_CODE  DEALER_TYPE_CODE DEALER_TYPE_DESC  GROUP_NUMBER  \\\n",
            "0  MIDLOTHIAN           US                 1      Retail Only        690015   \n",
            "1     WARWICK           US                 1      Retail Only        690086   \n",
            "2      MENTOR           US                 1      Retail Only        690107   \n",
            "3    AMARILLO           US                 1      Retail Only        690147   \n",
            "4   MILLSBORO           US                 1      Retail Only        690158   \n",
            "5   MILLSBORO           US                 1      Retail Only        690158   \n",
            "\n",
            "  PWC  ... SALES_ORG SNOW  SNOW_CREATION_DATE  SSV SSV_CREATION_DATE  \\\n",
            "0   Y  ...       200    N                 NaN    N               NaN   \n",
            "1   Y  ...       200    Y           2/15/1997    N               NaN   \n",
            "2   Y  ...       200    N                 NaN    N               NaN   \n",
            "3   Y  ...       200    N                 NaN    N               NaN   \n",
            "4   Y  ...       200    N                 NaN    N               NaN   \n",
            "5   Y  ...       200    N                 NaN    N               NaN   \n",
            "\n",
            "  STATE_CODE TERRITORY_CODE THREE_W THREE_W_CREATION_DATE  GEOGRAPHY  \n",
            "0         IL              4       N                   NaN        NaN  \n",
            "1         RI              3       N                   NaN        NaN  \n",
            "2         OH              4       N                   NaN        NaN  \n",
            "3         TX              5       N                   NaN        NaN  \n",
            "4         DE              3       Y             9/12/2008        NaN  \n",
            "5         DE              3       Y             9/12/2008        NaN  \n",
            "\n",
            "[6 rows x 23 columns]\n",
            "\n",
            "----//----//----//----//----//----//----//----\n",
            "\n",
            "The last 8 rows in the retail data set are:\n",
            "       BCI_PROGRAM_CODE DATE_OF_SALE DEALER_OEM_TYPE DELIVERY_DATE  \\\n",
            "134253              L1     10/2/2022       Multi OEM     10/2/2022   \n",
            "134254              RW     10/2/2022             NaN     10/2/2022   \n",
            "134255              RW     10/2/2022             NaN     10/2/2022   \n",
            "134256              RW     10/2/2022             NaN     10/2/2022   \n",
            "134257              RW     10/2/2022             NaN     10/2/2022   \n",
            "134258              RW     10/2/2022             NaN     10/2/2022   \n",
            "134259              L1     9/30/2022        BRP Only     9/30/2022   \n",
            "134260              HP     9/30/2022        BRP Only     9/30/2022   \n",
            "\n",
            "       ENGINE_TYPE FLOORING_END_DATE INVOICE_DATE LAST_STORAGE_DATE  \\\n",
            "134253                    10/29/2022     8/1/2022         7/29/2022   \n",
            "134254                     9/25/2022    8/17/2022          8/4/2022   \n",
            "134255                     9/25/2022    8/17/2022          8/4/2022   \n",
            "134256                     9/25/2022    8/17/2022          8/3/2022   \n",
            "134257                     9/25/2022    8/17/2022          8/6/2022   \n",
            "134258                     9/25/2022    8/17/2022          8/3/2022   \n",
            "134259                    12/21/2022    9/23/2022         9/22/2022   \n",
            "134260                    11/27/2022    8/30/2022         8/26/2022   \n",
            "\n",
            "       MODEL_NUMBER PAID_OFF_DATE  ... PROMO_CODE REG_DEALER_NUMBER  \\\n",
            "134253    0009NNQ00           NaN  ...                    xxx704908   \n",
            "134254    0002WNC00      9/2/2022  ...                    xxx706728   \n",
            "134255    0002WNC00      9/2/2022  ...                    xxx706728   \n",
            "134256    0009DNC00      9/2/2022  ...                    xxx706728   \n",
            "134257    0009DNC00      9/2/2022  ...                    xxx706728   \n",
            "134258    0009DNC00      9/2/2022  ...                    xxx706728   \n",
            "134259    0005KNA00           NaN  ...                    xxx707087   \n",
            "134260    0008SNA00           NaN  ...                    xxx707087   \n",
            "\n",
            "       REGISTRATION_DATE SELL_DIST_CHAN_CODE   SELL_DIST_CHAN_DESC TRAN_DATE  \\\n",
            "134253         10/2/2022                   1  Dealer                     NaN   \n",
            "134254         10/2/2022                   5  Direct                     NaN   \n",
            "134255         10/2/2022                   5  Direct                     NaN   \n",
            "134256         10/2/2022                   5  Direct                     NaN   \n",
            "134257         10/2/2022                   5  Direct                     NaN   \n",
            "134258         10/2/2022                   5  Direct                     NaN   \n",
            "134259         10/2/2022                   1  Dealer                     NaN   \n",
            "134260         10/2/2022                   1  Dealer                     NaN   \n",
            "\n",
            "       TRAN_DEALER_NUMBER                                USAGE_DESC  \\\n",
            "134253                NaN  Personal/Recreational                      \n",
            "134254                NaN  Rental/Commercial                          \n",
            "134255                NaN  Rental/Commercial                          \n",
            "134256                NaN  Rental/Commercial                          \n",
            "134257                NaN  Rental/Commercial                          \n",
            "134258                NaN  Rental/Commercial                          \n",
            "134259                NaN  Personal/Recreational                      \n",
            "134260                NaN  Personal/Recreational                      \n",
            "\n",
            "       WAR_CLASS_TYPE                            WAR_CLASS_DESC  \n",
            "134253           RG2   REGULAR WARRANTY                          \n",
            "134254           RG2   REGULAR WARRANTY                          \n",
            "134255           RG2   REGULAR WARRANTY                          \n",
            "134256           RG2   REGULAR WARRANTY                          \n",
            "134257           RG2   REGULAR WARRANTY                          \n",
            "134258           RG2   REGULAR WARRANTY                          \n",
            "134259           RG2   REGULAR WARRANTY                          \n",
            "134260           RG2   REGULAR WARRANTY                          \n",
            "\n",
            "[8 rows x 21 columns]\n"
          ]
        }
      ]
    },
    {
      "cell_type": "markdown",
      "source": [
        "---\n",
        "# 2 - A - Remove duplicated lines in the DEALER dataset. How many of duplicated lines there were?\n",
        "---"
      ],
      "metadata": {
        "id": "XzWDSCCLYki9"
      }
    },
    {
      "cell_type": "code",
      "source": [
        "# 2A\n",
        "\n",
        "df_duplicates_dropped = df_dealer.drop_duplicates(keep='first', inplace=False)"
      ],
      "metadata": {
        "id": "iUPP7veIZtLE"
      },
      "execution_count": 10,
      "outputs": []
    },
    {
      "cell_type": "code",
      "source": [
        "num_duplicates_dropped = len(df_dealer) - len(df_duplicates_dropped)"
      ],
      "metadata": {
        "id": "BtGYFmlrg3tX"
      },
      "execution_count": 11,
      "outputs": []
    },
    {
      "cell_type": "code",
      "source": [
        "print(\"Number of Duplicate Rows Dropped: {}\" .format(num_duplicates_dropped))"
      ],
      "metadata": {
        "colab": {
          "base_uri": "https://localhost:8080/"
        },
        "id": "8gbcNcqYg6e4",
        "outputId": "8007bddb-0024-4ba6-a910-61804f364b5a"
      },
      "execution_count": 12,
      "outputs": [
        {
          "output_type": "stream",
          "name": "stdout",
          "text": [
            "Number of Duplicate Rows Dropped: 5\n"
          ]
        }
      ]
    },
    {
      "cell_type": "code",
      "source": [
        "df_dealer.drop_duplicates(keep = 'first', inplace=True)"
      ],
      "metadata": {
        "id": "buMzygE4i74o"
      },
      "execution_count": 13,
      "outputs": []
    },
    {
      "cell_type": "markdown",
      "source": [
        "---\n",
        "# 2 - B - How many NAs exist within the CITY_DEALER column in the DEALER dataset? Replace the NA values for the string:  no city found.\n",
        "---"
      ],
      "metadata": {
        "id": "zTHeAIhWHvBi"
      }
    },
    {
      "cell_type": "code",
      "source": [
        "# 2B\n",
        "\n",
        "dealer_na_cities = df_dealer['CITY_DEALER'].isna().sum()\n",
        "print('There are {} occurrences of NA or empty cities'.format(dealer_na_cities))"
      ],
      "metadata": {
        "id": "NPNhF0m9eh8A",
        "colab": {
          "base_uri": "https://localhost:8080/"
        },
        "outputId": "f0682825-198a-46c5-b90d-1dc9b42a6e70"
      },
      "execution_count": 14,
      "outputs": [
        {
          "output_type": "stream",
          "name": "stdout",
          "text": [
            "There are 3 occurrences of NA or empty cities\n"
          ]
        }
      ]
    },
    {
      "cell_type": "code",
      "source": [
        "df_dealer['CITY_DEALER'].fillna('no city found', inplace = True)"
      ],
      "metadata": {
        "id": "Z0U3zs7ifzZQ"
      },
      "execution_count": 15,
      "outputs": []
    },
    {
      "cell_type": "markdown",
      "source": [
        "---\n",
        "# 2 - C - Filter the DEALER dataset to include only dealers with COUNTRY_CODE US or CA.\n",
        "---"
      ],
      "metadata": {
        "id": "JfIqkhUgH8a4"
      }
    },
    {
      "cell_type": "code",
      "source": [
        "# 2C\n",
        "\n",
        "df_dealer = df_dealer[(df_dealer['COUNTRY_CODE'] == 'US')|(df_dealer['COUNTRY_CODE'] == 'CA')]"
      ],
      "metadata": {
        "id": "U7keEuWZgxrO"
      },
      "execution_count": 16,
      "outputs": []
    },
    {
      "cell_type": "code",
      "source": [
        "dealer_data_rows_test = df_dealer.shape\n",
        "print(dealer_data_rows_test)"
      ],
      "metadata": {
        "colab": {
          "base_uri": "https://localhost:8080/"
        },
        "id": "nkXVPtGvkkmw",
        "outputId": "48e83aa2-b56a-4955-ff61-73b68ca0cdf9"
      },
      "execution_count": 17,
      "outputs": [
        {
          "output_type": "stream",
          "name": "stdout",
          "text": [
            "(4127, 23)\n"
          ]
        }
      ]
    },
    {
      "cell_type": "markdown",
      "source": [
        "---\n",
        "# 2 - D - In the RETAIL_SALES dataset, remove the trailing x (xxx) of the column REG_DEALER_NUMBER.\n",
        "---"
      ],
      "metadata": {
        "id": "bPdupqsNIJ6g"
      }
    },
    {
      "cell_type": "code",
      "source": [
        "# 2D\n",
        "\n",
        "df_retail['REG_DEALER_NUMBER'] = df_retail['REG_DEALER_NUMBER'].str.replace('x', '', regex=True)"
      ],
      "metadata": {
        "id": "8d776IxJk87E"
      },
      "execution_count": 18,
      "outputs": []
    },
    {
      "cell_type": "markdown",
      "source": [
        "---\n",
        "# 2 - E - Keep only the following columns in the DEALER dataset: CUSTOMER_NUMBER, CITY_DEALER, COUNTRY_CODE and STATE_CODE.\n",
        "---"
      ],
      "metadata": {
        "id": "ds5a1k-qImz8"
      }
    },
    {
      "cell_type": "code",
      "source": [
        "# 2E\n",
        "\n",
        "df_dealer = df_dealer[['CUSTOMER_NUMBER', 'CITY_DEALER', 'COUNTRY_CODE', 'STATE_CODE']]"
      ],
      "metadata": {
        "id": "QG0m99v6n6OS"
      },
      "execution_count": 19,
      "outputs": []
    },
    {
      "cell_type": "code",
      "source": [
        "#df_dealer"
      ],
      "metadata": {
        "id": "7DWp7yHBoxh1"
      },
      "execution_count": 20,
      "outputs": []
    },
    {
      "cell_type": "markdown",
      "source": [
        "---\n",
        "# 3 - A - In the RETAIL_SALES dataset, create a column named RETAIL and assign the integer 1 to it.\n",
        "---"
      ],
      "metadata": {
        "id": "6-UmMKRdzpE4"
      }
    },
    {
      "cell_type": "code",
      "source": [
        "# 3A\n",
        "\n",
        "df_retail['RETAIL'] = 1"
      ],
      "metadata": {
        "id": "_R5jApqmzt4I"
      },
      "execution_count": 21,
      "outputs": []
    },
    {
      "cell_type": "markdown",
      "source": [
        "---\n",
        "# 3 - B - Set the datatypes of columns CUSTOMER_NUMBER and REG_DEALER_NUMBER to integer for the DEALER and RETAIL_SALES datasets respectively\n",
        "---"
      ],
      "metadata": {
        "id": "uDknGurUI_FC"
      }
    },
    {
      "cell_type": "code",
      "source": [
        "# 3B\n",
        "\n",
        "df_dealer['CUSTOMER_NUMBER'] = df_dealer['CUSTOMER_NUMBER'].astype(int)"
      ],
      "metadata": {
        "id": "bWU4DEic0jzk",
        "colab": {
          "base_uri": "https://localhost:8080/"
        },
        "outputId": "97e70ce9-8130-4929-d40d-d17e3eda02fe"
      },
      "execution_count": 22,
      "outputs": [
        {
          "output_type": "stream",
          "name": "stderr",
          "text": [
            "<ipython-input-22-18a3de348cad>:3: SettingWithCopyWarning: \n",
            "A value is trying to be set on a copy of a slice from a DataFrame.\n",
            "Try using .loc[row_indexer,col_indexer] = value instead\n",
            "\n",
            "See the caveats in the documentation: https://pandas.pydata.org/pandas-docs/stable/user_guide/indexing.html#returning-a-view-versus-a-copy\n",
            "  df_dealer['CUSTOMER_NUMBER'] = df_dealer['CUSTOMER_NUMBER'].astype(int)\n"
          ]
        }
      ]
    },
    {
      "cell_type": "code",
      "source": [
        "# 3B\n",
        "\n",
        "df_retail['REG_DEALER_NUMBER'] = df_retail['REG_DEALER_NUMBER'].astype(int)"
      ],
      "metadata": {
        "id": "xZfb0TEJ1xS6"
      },
      "execution_count": 23,
      "outputs": []
    },
    {
      "cell_type": "markdown",
      "source": [
        "---\n",
        "# 3 - C - In the DEALER dataset, create a column called REGION_CODE based on the STATE_CODE columns. Each region is specified as per the dictionary provided in the original doc.\n",
        "---"
      ],
      "metadata": {
        "id": "21c_Kr67JKEl"
      }
    },
    {
      "cell_type": "code",
      "source": [
        "# 3C\n",
        "\n",
        "region_mapping = {\n",
        "    1: [\"AB\", \"BC\", \"MB\", \"NB\", \"NF\", \"NS\", \"NT\", \"NU\", \"ON\", \"PE\", \"QC\", \"SK\", \"YT\"],\n",
        "    2: [\"AL\", \"CT\", \"DE\", \"DC\", \"FL\", \"GA\", \"MA\", \"MD\", \"ME\", \"NC\", \"NH\", \"NJ\", \"NY\", \"PA\", \"PR\", \"RI\", \"SC\", \"VA\", \"VT\", \"WV\"],\n",
        "    3: [\"AR\", \"IA\", \"IL\", \"IN\", \"KS\", \"KY\", \"LA\", \"MI\", \"MN\", \"MO\", \"MS\", \"ND\", \"NE\", \"OH\", \"SD\", \"TN\", \"WI\"],\n",
        "    4: [\"AK\", \"AZ\", \"CA\", \"CO\", \"HI\", \"ID\", \"MT\", \"NM\", \"NV\", \"OK\", \"OR\", \"TX\", \"UT\", \"WA\", \"WY\"]\n",
        "}\n",
        "\n",
        "df_dealer['REGION_CODE'] = df_dealer['STATE_CODE'].apply(\n",
        "    lambda state: next((region for region, states in region_mapping.items() if state in states), 5)\n",
        ")"
      ],
      "metadata": {
        "id": "H3Zzrqd34SVn"
      },
      "execution_count": 24,
      "outputs": []
    },
    {
      "cell_type": "markdown",
      "source": [
        "---\n",
        "# 4 - A - Merge the DEALER dataset into the RETAIL_SALES using CUSTOMER_NUMBER and REG_DEALER_NUMBER columns. Explain why you selected this specific join type.\n",
        "---"
      ],
      "metadata": {
        "id": "4JlozaMM5W50"
      }
    },
    {
      "cell_type": "code",
      "source": [
        "# 4A\n",
        "\n",
        "df_merged_data = pd.merge(df_retail, df_dealer, left_on = 'REG_DEALER_NUMBER', right_on = 'CUSTOMER_NUMBER', how = 'inner')\n"
      ],
      "metadata": {
        "id": "ZBvxrobV5fJ_"
      },
      "execution_count": 25,
      "outputs": []
    },
    {
      "cell_type": "markdown",
      "source": [
        "---\n",
        "# 4 - B - I - What is the overall top selling MODEL_CODE in the STATE_CODE of AZ and MB? Use the RETAIL column to calculate sales.\n",
        "---"
      ],
      "metadata": {
        "id": "Q-gxP7f3Jtof"
      }
    },
    {
      "cell_type": "code",
      "source": [
        "# 4B I\n",
        "# MODEL_CODE does not exist, I'll use MODEL_NUMBER instead\n",
        "top_selling_overall = df_merged_data[df_merged_data['STATE_CODE'].isin(['AZ','MB'])].groupby('MODEL_NUMBER')['RETAIL'].sum().idxmax()\n",
        "top_selling_AZ = df_merged_data[df_merged_data['STATE_CODE'].isin(['AZ'])].groupby('MODEL_NUMBER')['RETAIL'].sum().idxmax()\n",
        "top_selling_MB = df_merged_data[df_merged_data['STATE_CODE'].isin(['MB'])].groupby('MODEL_NUMBER')['RETAIL'].sum().idxmax()"
      ],
      "metadata": {
        "id": "beRBoo4eJL66"
      },
      "execution_count": 26,
      "outputs": []
    },
    {
      "cell_type": "code",
      "source": [
        "top_selling_overall"
      ],
      "metadata": {
        "colab": {
          "base_uri": "https://localhost:8080/",
          "height": 35
        },
        "id": "NbnLZWUcMC_q",
        "outputId": "9e87e4ff-b24f-4850-f319-463264caddc8"
      },
      "execution_count": 27,
      "outputs": [
        {
          "output_type": "execute_result",
          "data": {
            "text/plain": [
              "'0009NCA00'"
            ],
            "application/vnd.google.colaboratory.intrinsic+json": {
              "type": "string"
            }
          },
          "metadata": {},
          "execution_count": 27
        }
      ]
    },
    {
      "cell_type": "code",
      "source": [
        "print('The overall best selling model is:{} \\n'.format(top_selling_overall))\n",
        "print('The best selling model in AZ is:{} \\n'.format(top_selling_AZ))\n",
        "print('The best selling model in MB is:{} \\n'.format(top_selling_MB))"
      ],
      "metadata": {
        "colab": {
          "base_uri": "https://localhost:8080/"
        },
        "id": "4WvNAsLQQMhh",
        "outputId": "15e9cca5-898e-48d3-cc7d-6f427ec09a41"
      },
      "execution_count": 30,
      "outputs": [
        {
          "output_type": "stream",
          "name": "stdout",
          "text": [
            "The overall best selling model is:0009NCA00 \n",
            "\n",
            "The best selling model in AZ is:0009NCA00 \n",
            "\n",
            "The best selling model in MB is:0008JCA00 \n",
            "\n"
          ]
        }
      ]
    },
    {
      "cell_type": "markdown",
      "source": [
        "---\n",
        "# 4 - B - II - What are the top 10 MODEL_CODEs sold in REGION_CODE number 3, in the year 2021? Use REGISTRATION_DATE to calculate the dates.\n",
        "---"
      ],
      "metadata": {
        "id": "UNgpDzBnpvH5"
      }
    },
    {
      "cell_type": "code",
      "source": [
        "df_merged_data['REGISTRATION_DATE'] = pd.to_datetime(df_merged_data['REGISTRATION_DATE'], format='%m/%d/%Y')"
      ],
      "metadata": {
        "id": "PmFXUb9drywN"
      },
      "execution_count": 31,
      "outputs": []
    },
    {
      "cell_type": "code",
      "source": [
        "df_merged_data['REG_YEAR'] = df_merged_data['REGISTRATION_DATE'].dt.year"
      ],
      "metadata": {
        "id": "Q88Fh922r3Lk"
      },
      "execution_count": 32,
      "outputs": []
    },
    {
      "cell_type": "code",
      "source": [
        "filtered_data = df_merged_data[(df_merged_data['REGION_CODE'] == 3) & (df_merged_data['REG_YEAR'] == 2021)]"
      ],
      "metadata": {
        "id": "snKWy1CssTtO"
      },
      "execution_count": 33,
      "outputs": []
    },
    {
      "cell_type": "code",
      "source": [
        "model_sales = filtered_data.groupby('MODEL_NUMBER')['RETAIL'].sum()"
      ],
      "metadata": {
        "id": "wz8WlpSgsYQJ"
      },
      "execution_count": 34,
      "outputs": []
    },
    {
      "cell_type": "code",
      "source": [
        "top_10_models_2021 = model_sales.nlargest(10)"
      ],
      "metadata": {
        "id": "zEGQOYR2sZ1C"
      },
      "execution_count": 35,
      "outputs": []
    },
    {
      "cell_type": "code",
      "source": [
        "print(top_10_models_2021)"
      ],
      "metadata": {
        "colab": {
          "base_uri": "https://localhost:8080/"
        },
        "id": "JVR519ZysbnY",
        "outputId": "431d5ca6-39f1-4966-b9bc-6e20ab81775c"
      },
      "execution_count": 36,
      "outputs": [
        {
          "output_type": "stream",
          "name": "stdout",
          "text": [
            "MODEL_NUMBER\n",
            "0008JCA00    2147\n",
            "0008JCC00    1199\n",
            "0005CCG00     907\n",
            "0005CCA00     888\n",
            "0005CCB00     828\n",
            "0008ACA00     593\n",
            "0009CCA00     519\n",
            "0002TCC00     510\n",
            "0008CCA00     496\n",
            "0005JCA00     451\n",
            "Name: RETAIL, dtype: int64\n"
          ]
        }
      ]
    },
    {
      "cell_type": "markdown",
      "source": [
        "---\n",
        "# 4 - B - III - Create a chart to display the total sales per REGION_CODE and year.dates.\n",
        "---"
      ],
      "metadata": {
        "id": "6bLxAlt3szVq"
      }
    },
    {
      "cell_type": "code",
      "source": [
        "import matplotlib.pyplot as plt\n",
        "\n",
        "# Group the data by REGION_CODE and REG_YEAR and calculate the total sales\n",
        "total_sales_per_region_year = df_merged_data.groupby(['REGION_CODE', 'REG_YEAR'])['RETAIL'].sum()\n",
        "\n",
        "# Reset the index to make REGION_CODE and REG_YEAR columns accessible for plotting\n",
        "total_sales_per_region_year = total_sales_per_region_year.reset_index()\n",
        "\n",
        "# Create a pivot table to reshape the data for plotting\n",
        "pivot_table = total_sales_per_region_year.pivot(index='REG_YEAR', columns='REGION_CODE', values='RETAIL')\n",
        "\n",
        "# Plot the data as a bar chart\n",
        "ax = pivot_table.plot(kind='bar', stacked=False, figsize=(12, 6))\n",
        "plt.xlabel('Year')\n",
        "plt.ylabel('Total Sales')\n",
        "plt.title('Total Sales per REGION_CODE and Year')\n",
        "plt.legend(title='REGION_CODE', loc='upper right', bbox_to_anchor=(1.2, 1))\n",
        "\n",
        "for p in ax.patches:\n",
        "    ax.annotate(str(int(p.get_height())), (p.get_x() + p.get_width() / 2., p.get_height()), ha='center', va='bottom')\n",
        "\n",
        "plt.show()"
      ],
      "metadata": {
        "colab": {
          "base_uri": "https://localhost:8080/",
          "height": 585
        },
        "id": "t61uu6IKs7fA",
        "outputId": "8ee5af29-f7bc-4da5-cbcf-40038087b46d"
      },
      "execution_count": 37,
      "outputs": [
        {
          "output_type": "display_data",
          "data": {
            "text/plain": [
              "<Figure size 1200x600 with 1 Axes>"
            ],
            "image/png": "[encoded data removed]"
          },
          "metadata": {}
        }
      ]
    }
  ]
}